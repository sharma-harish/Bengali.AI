{
 "cells": [
  {
   "cell_type": "code",
   "execution_count": 1,
   "metadata": {
    "_cell_guid": "b1076dfc-b9ad-4769-8c92-a6c4dae69d19",
    "_uuid": "8f2839f25d086af736a60e9eeb907d3b93b6e0e5"
   },
   "outputs": [
    {
     "name": "stdout",
     "output_type": "stream",
     "text": [
      "/kaggle/src/script.ipynb\n",
      "/kaggle/lib/kaggle/gcp.py\n",
      "/kaggle/input/bengalimodel/resnet34_fold0.bin\n",
      "/kaggle/input/bengalimodel/resnet34_fold3.bin\n",
      "/kaggle/input/bengalimodel/resnet34_fold2.bin\n",
      "/kaggle/input/bengalimodel/resnet34_fold1.bin\n",
      "/kaggle/input/pretrained-models/pretrained-models.pytorch-master/.gitignore\n",
      "/kaggle/input/pretrained-models/pretrained-models.pytorch-master/README.md\n",
      "/kaggle/input/pretrained-models/pretrained-models.pytorch-master/setup.cfg\n",
      "/kaggle/input/pretrained-models/pretrained-models.pytorch-master/LICENSE.txt\n",
      "/kaggle/input/pretrained-models/pretrained-models.pytorch-master/setup.py\n",
      "/kaggle/input/pretrained-models/pretrained-models.pytorch-master/requirements.txt\n",
      "/kaggle/input/pretrained-models/pretrained-models.pytorch-master/.travis.yml\n",
      "/kaggle/input/pretrained-models/pretrained-models.pytorch-master/pretrainedmodels/__init__.py\n",
      "/kaggle/input/pretrained-models/pretrained-models.pytorch-master/pretrainedmodels/utils.py\n",
      "/kaggle/input/pretrained-models/pretrained-models.pytorch-master/pretrainedmodels/version.py\n",
      "/kaggle/input/pretrained-models/pretrained-models.pytorch-master/pretrainedmodels/models/__init__.py\n",
      "/kaggle/input/pretrained-models/pretrained-models.pytorch-master/pretrainedmodels/models/senet.py\n",
      "/kaggle/input/pretrained-models/pretrained-models.pytorch-master/pretrainedmodels/models/xception.py\n",
      "/kaggle/input/pretrained-models/pretrained-models.pytorch-master/pretrainedmodels/models/vggm.py\n",
      "/kaggle/input/pretrained-models/pretrained-models.pytorch-master/pretrainedmodels/models/nasnet_mobile.py\n",
      "/kaggle/input/pretrained-models/pretrained-models.pytorch-master/pretrainedmodels/models/nasnet.py\n",
      "/kaggle/input/pretrained-models/pretrained-models.pytorch-master/pretrainedmodels/models/pnasnet.py\n",
      "/kaggle/input/pretrained-models/pretrained-models.pytorch-master/pretrainedmodels/models/resnext.py\n",
      "/kaggle/input/pretrained-models/pretrained-models.pytorch-master/pretrainedmodels/models/utils.py\n",
      "/kaggle/input/pretrained-models/pretrained-models.pytorch-master/pretrainedmodels/models/fbresnet.py\n",
      "/kaggle/input/pretrained-models/pretrained-models.pytorch-master/pretrainedmodels/models/torchvision_models.py\n",
      "/kaggle/input/pretrained-models/pretrained-models.pytorch-master/pretrainedmodels/models/cafferesnet.py\n",
      "/kaggle/input/pretrained-models/pretrained-models.pytorch-master/pretrainedmodels/models/dpn.py\n",
      "/kaggle/input/pretrained-models/pretrained-models.pytorch-master/pretrainedmodels/models/bninception.py\n",
      "/kaggle/input/pretrained-models/pretrained-models.pytorch-master/pretrainedmodels/models/wideresnet.py\n",
      "/kaggle/input/pretrained-models/pretrained-models.pytorch-master/pretrainedmodels/models/inceptionv4.py\n",
      "/kaggle/input/pretrained-models/pretrained-models.pytorch-master/pretrainedmodels/models/inceptionresnetv2.py\n",
      "/kaggle/input/pretrained-models/pretrained-models.pytorch-master/pretrainedmodels/models/polynet.py\n",
      "/kaggle/input/pretrained-models/pretrained-models.pytorch-master/pretrainedmodels/models/fbresnet/resnet152_load.py\n",
      "/kaggle/input/pretrained-models/pretrained-models.pytorch-master/pretrainedmodels/models/fbresnet/resnet152_dump.lua\n",
      "/kaggle/input/pretrained-models/pretrained-models.pytorch-master/pretrainedmodels/models/resnext_features/__init__.py\n",
      "/kaggle/input/pretrained-models/pretrained-models.pytorch-master/pretrainedmodels/models/resnext_features/resnext101_32x4d_features.py\n",
      "/kaggle/input/pretrained-models/pretrained-models.pytorch-master/pretrainedmodels/models/resnext_features/resnext101_64x4d_features.py\n",
      "/kaggle/input/pretrained-models/pretrained-models.pytorch-master/pretrainedmodels/datasets/__init__.py\n",
      "/kaggle/input/pretrained-models/pretrained-models.pytorch-master/pretrainedmodels/datasets/voc.py\n",
      "/kaggle/input/pretrained-models/pretrained-models.pytorch-master/pretrainedmodels/datasets/utils.py\n",
      "/kaggle/input/pretrained-models/pretrained-models.pytorch-master/tests/test_torch_save.py\n",
      "/kaggle/input/pretrained-models/pretrained-models.pytorch-master/tests/test_pm_imagenet.py\n",
      "/kaggle/input/pretrained-models/pretrained-models.pytorch-master/examples/voc2007_extract.py\n",
      "/kaggle/input/pretrained-models/pretrained-models.pytorch-master/examples/imagenet_logits.py\n",
      "/kaggle/input/pretrained-models/pretrained-models.pytorch-master/examples/imagenet_eval.py\n",
      "/kaggle/input/pretrained-models/pretrained-models.pytorch-master/examples/visu_arch.py\n",
      "/kaggle/input/pretrained-models/pretrained-models.pytorch-master/data/cat.jpg\n",
      "/kaggle/input/pretrained-models/pretrained-models.pytorch-master/data/croco.jpg\n",
      "/kaggle/input/pretrained-models/pretrained-models.pytorch-master/data/imagenet_synsets.txt\n",
      "/kaggle/input/pretrained-models/pretrained-models.pytorch-master/data/imagenet_classes.txt\n",
      "/kaggle/input/pretrained-models/pretrained-models.pytorch-master/data/cat_224.jpg\n",
      "/kaggle/input/bengaliai-cv19/test_image_data_2.parquet\n",
      "/kaggle/input/bengaliai-cv19/test_image_data_3.parquet\n",
      "/kaggle/input/bengaliai-cv19/test_image_data_0.parquet\n",
      "/kaggle/input/bengaliai-cv19/train.csv\n",
      "/kaggle/input/bengaliai-cv19/class_map_corrected.csv\n",
      "/kaggle/input/bengaliai-cv19/test_image_data_1.parquet\n",
      "/kaggle/input/bengaliai-cv19/train_multi_diacritics.csv\n",
      "/kaggle/input/bengaliai-cv19/class_map.csv\n",
      "/kaggle/input/bengaliai-cv19/train_image_data_3.parquet\n",
      "/kaggle/input/bengaliai-cv19/train_image_data_2.parquet\n",
      "/kaggle/input/bengaliai-cv19/test.csv\n",
      "/kaggle/input/bengaliai-cv19/sample_submission.csv\n",
      "/kaggle/input/bengaliai-cv19/train_image_data_1.parquet\n",
      "/kaggle/input/bengaliai-cv19/train_image_data_0.parquet\n",
      "/kaggle/working/__notebook__.ipynb\n"
     ]
    }
   ],
   "source": [
    "# This Python 3 environment comes with many helpful analytics libraries installed\n",
    "# It is defined by the kaggle/python docker image: https://github.com/kaggle/docker-python\n",
    "# For example, here's several helpful packages to load in \n",
    "\n",
    "import numpy as np # linear algebra\n",
    "import pandas as pd # data processing, CSV file I/O (e.g. pd.read_csv)\n",
    "\n",
    "# Input data files are available in the \"../input/\" directory.\n",
    "# For example, running this (by clicking run or pressing Shift+Enter) will list all files under the input directory\n",
    "\n",
    "import os\n",
    "for dirname, _, filenames in os.walk('/kaggle'):\n",
    "    for filename in filenames:\n",
    "        print(os.path.join(dirname, filename))\n",
    "\n",
    "# Any results you write to the current directory are saved as output."
   ]
  },
  {
   "cell_type": "code",
   "execution_count": 2,
   "metadata": {
    "_cell_guid": "79c7e3d0-c299-4dcb-8224-4455121ee9b0",
    "_uuid": "d629ff2d2480ee46fbb7e2d37f6b5fab8052498a"
   },
   "outputs": [],
   "source": [
    "import sys\n",
    "pt_models = '/kaggle/input/pretrained-models/pretrained-models.pytorch-master/'\n",
    "sys.path.insert(0, pt_models)\n",
    "import pretrainedmodels"
   ]
  },
  {
   "cell_type": "code",
   "execution_count": 3,
   "metadata": {},
   "outputs": [],
   "source": [
    "import glob\n",
    "import torch\n",
    "import albumentations\n",
    "import pandas as pd\n",
    "import numpy as np\n",
    "from tqdm import tqdm\n",
    "from PIL import Image\n",
    "import joblib\n",
    "import torch.nn as nn\n",
    "from torch.nn import functional as F"
   ]
  },
  {
   "cell_type": "code",
   "execution_count": 4,
   "metadata": {},
   "outputs": [],
   "source": [
    "TRAIN_BAT_SIZE = 32\n",
    "TEST_BAT_SIZE = 8\n",
    "MODEL_MEAN=(0.485, 0.456, 0.406)\n",
    "MODEL_STD=(0.229, 0.224, 0.225)\n",
    "IMG_HT = 137\n",
    "IMG_WD = 236\n",
    "DEVICE='cuda'"
   ]
  },
  {
   "cell_type": "code",
   "execution_count": 5,
   "metadata": {},
   "outputs": [],
   "source": [
    "class ResNet34(nn.Module):\n",
    "    def __init__(self, pretrained):\n",
    "        super(ResNet34, self).__init__()\n",
    "        if pretrained:\n",
    "            self.model = pretrainedmodels.__dict__['resnet34'](pretrained = 'imagenet')\n",
    "        else:\n",
    "            self.model = pretrainedmodels.__dict__['resnet34'](pretrained = None)\n",
    "        self.l0 = nn.Linear(512, 168)\n",
    "        self.l1 = nn.Linear(512, 11)\n",
    "        self.l2 = nn.Linear(512, 7)\n",
    "\n",
    "    def forward(self, X):\n",
    "        s = X.shape\n",
    "        X = (X.reshape(1, s[0], s[1], s[2]))\n",
    "        bs, _, _, _ = X.shape\n",
    "        X = self.model.features(X)\n",
    "        X = nn.functional.adaptive_avg_pool2d(X, 1).reshape(bs, -1)\n",
    "        l0 = self.l0(X)\n",
    "        l1 = self.l1(X)\n",
    "        l2 = self.l2(X)\n",
    "        return l0, l1, l2"
   ]
  },
  {
   "cell_type": "code",
   "execution_count": 6,
   "metadata": {},
   "outputs": [],
   "source": [
    "class BengaliDatasetTest:\n",
    "    def __init__(self, df, img_ht, img_wd, mean, std):\n",
    "        # pdb.set_trace()\n",
    "        self.image_ids = df.image_id.values\n",
    "        self.img_arr = df.iloc[:, 1:].values\n",
    "        \n",
    "        self.aug = albumentations.Compose([\n",
    "            albumentations.Resize(img_ht, img_wd, always_apply = True),\n",
    "            albumentations.Normalize(mean, std, always_apply = True)\n",
    "        ])\n",
    "\n",
    "    def __len__(self):\n",
    "        return len(self.image_ids)\n",
    "\n",
    "    def __getitem__(self, item):\n",
    "        # pdb.set_trace()\n",
    "        # print(self.image_ids[item])\n",
    "        image = self.img_arr[item, :]\n",
    "        img_id = self.image_ids[item]\n",
    "        image = image.reshape(137, 236).astype(float)\n",
    "        image = Image.fromarray(image).convert('RGB')\n",
    "        image = self.aug(image = np.array(image))['image']\n",
    "        # pdb.set_trace()\n",
    "        image = np.transpose(image, (2, 0, 1)).astype(np.float32)\n",
    "        return {\n",
    "            'image' : torch.tensor(image, dtype = torch.float),\n",
    "            'image_id' : img_id\n",
    "        }"
   ]
  },
  {
   "cell_type": "code",
   "execution_count": 7,
   "metadata": {},
   "outputs": [],
   "source": [
    "model = ResNet34(pretrained=False)\n",
    "model.load_state_dict(torch.load('/kaggle/input/bengalimodel/resnet34_fold1.bin'))\n",
    "model.to(DEVICE)\n",
    "with torch.no_grad():\n",
    "    model.eval()"
   ]
  },
  {
   "cell_type": "code",
   "execution_count": 8,
   "metadata": {},
   "outputs": [
    {
     "name": "stdout",
     "output_type": "stream",
     "text": [
      "torch.Size([3, 137, 236])\n",
      "torch.Size([3, 137, 236])\n",
      "torch.Size([3, 137, 236])\n",
      "torch.Size([3, 137, 236])\n",
      "torch.Size([3, 137, 236])\n",
      "torch.Size([3, 137, 236])\n",
      "torch.Size([3, 137, 236])\n",
      "torch.Size([3, 137, 236])\n",
      "torch.Size([3, 137, 236])\n",
      "torch.Size([3, 137, 236])\n",
      "torch.Size([3, 137, 236])\n",
      "torch.Size([3, 137, 236])\n"
     ]
    }
   ],
   "source": [
    "import pdb\n",
    "predictions = []\n",
    "for file_idx in range(4):\n",
    "    df = pd.read_parquet(f'../input/bengaliai-cv19/test_image_data_{file_idx}.parquet')\n",
    "    dataset = BengaliDatasetTest(df = df, img_ht = IMG_HT, img_wd = IMG_WD, mean = MODEL_MEAN, std = MODEL_STD)\n",
    "    data_loader = torch.utils.data.DataLoader(dataset, batch_size = TEST_BAT_SIZE,\n",
    "                                        shuffle = False,\n",
    "                                        num_workers = 4)\n",
    "    for bi, d in enumerate(dataset):\n",
    "        image = d['image']\n",
    "        img_id = d['image_id']\n",
    "        image = image.to(DEVICE, dtype = torch.float)\n",
    "        print(image.shape)\n",
    "        g, v, c = model(image)\n",
    "        x = g\n",
    "#         pdb.set_trace()\n",
    "        g = int(torch.argmax(g, axis = 1))\n",
    "        v = int(torch.argmax(v, axis = 1))\n",
    "        c = int(torch.argmax(c, axis = 1))\n",
    "#         for i, imid in range(img_id):\n",
    "        predictions.append((f'{img_id}_grapheme_root', g))\n",
    "        predictions.append((f'{img_id}_vowel_diacritic', v))\n",
    "        predictions.append((f'{img_id}_consonant_diacritic', c))"
   ]
  },
  {
   "cell_type": "markdown",
   "metadata": {},
   "source": [
    "## END"
   ]
  }
 ],
 "metadata": {
  "kernelspec": {
   "display_name": "Python 3",
   "language": "python",
   "name": "python3"
  },
  "language_info": {
   "codemirror_mode": {
    "name": "ipython",
    "version": 3
   },
   "file_extension": ".py",
   "mimetype": "text/x-python",
   "name": "python",
   "nbconvert_exporter": "python",
   "pygments_lexer": "ipython3",
   "version": "3.6.6"
  }
 },
 "nbformat": 4,
 "nbformat_minor": 4
}
